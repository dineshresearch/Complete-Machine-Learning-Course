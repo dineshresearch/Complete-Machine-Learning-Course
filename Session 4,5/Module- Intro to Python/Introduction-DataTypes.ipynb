{
 "cells": [
  {
   "cell_type": "markdown",
   "metadata": {},
   "source": [
    "# Basic Operations"
   ]
  },
  {
   "cell_type": "code",
   "execution_count": null,
   "metadata": {},
   "outputs": [],
   "source": [
    "int # press shift + tab for documentation.\n",
    "help(int) # either shift + tab or use help function for documentation."
   ]
  },
  {
   "cell_type": "code",
   "execution_count": 1,
   "metadata": {},
   "outputs": [
    {
     "name": "stdout",
     "output_type": "stream",
     "text": [
      "This is my first line of code in python.\n"
     ]
    }
   ],
   "source": [
    "print(\"This is my first line of code in python.\")"
   ]
  },
  {
   "cell_type": "code",
   "execution_count": 3,
   "metadata": {},
   "outputs": [
    {
     "name": "stdout",
     "output_type": "stream",
     "text": [
      "Hello\n",
      "This is in the next line\n"
     ]
    }
   ],
   "source": [
    "print(\"Hello\\nThis is in the next line\")"
   ]
  },
  {
   "cell_type": "code",
   "execution_count": 10,
   "metadata": {},
   "outputs": [
    {
     "name": "stdout",
     "output_type": "stream",
     "text": [
      "Name\tClass\n",
      "Sai\tCSE\n",
      "Printing tab escape character literally \\t\n"
     ]
    }
   ],
   "source": [
    "print(\"Name\\tClass\")\n",
    "print('Sai\\tCSE')\n",
    "print('Printing tab escape character literally \\\\t') # we're escaping backslash as well"
   ]
  },
  {
   "cell_type": "code",
   "execution_count": 96,
   "metadata": {},
   "outputs": [
    {
     "name": "stdout",
     "output_type": "stream",
     "text": [
      "addition: 10\n"
     ]
    }
   ],
   "source": [
    "x = 4\n",
    "y = 6\n",
    "\n",
    "\n",
    "print('addition:', x + y)"
   ]
  },
  {
   "cell_type": "code",
   "execution_count": 97,
   "metadata": {},
   "outputs": [
    {
     "name": "stdout",
     "output_type": "stream",
     "text": [
      "subtraction: -2\n"
     ]
    }
   ],
   "source": [
    "print('subtraction:', x - y)\n"
   ]
  },
  {
   "cell_type": "code",
   "execution_count": 98,
   "metadata": {},
   "outputs": [
    {
     "name": "stdout",
     "output_type": "stream",
     "text": [
      "multiplication: 24\n"
     ]
    }
   ],
   "source": [
    "print('multiplication:', x * y)\n"
   ]
  },
  {
   "cell_type": "code",
   "execution_count": 99,
   "metadata": {},
   "outputs": [
    {
     "name": "stdout",
     "output_type": "stream",
     "text": [
      "division: 0.6666666666666666\n"
     ]
    }
   ],
   "source": [
    "print('division:', x / y)\n"
   ]
  },
  {
   "cell_type": "code",
   "execution_count": 100,
   "metadata": {},
   "outputs": [
    {
     "name": "stdout",
     "output_type": "stream",
     "text": [
      "floor_div: 0\n"
     ]
    }
   ],
   "source": [
    "print('floor_div:', x // y)\n"
   ]
  },
  {
   "cell_type": "code",
   "execution_count": 101,
   "metadata": {},
   "outputs": [
    {
     "name": "stdout",
     "output_type": "stream",
     "text": [
      "modulo: 4\n"
     ]
    }
   ],
   "source": [
    "print('modulo:', x % y)\n"
   ]
  },
  {
   "cell_type": "code",
   "execution_count": 102,
   "metadata": {},
   "outputs": [
    {
     "name": "stdout",
     "output_type": "stream",
     "text": [
      "exponent: 4096\n"
     ]
    }
   ],
   "source": [
    "print('exponent:', x ** y)"
   ]
  },
  {
   "cell_type": "code",
   "execution_count": 103,
   "metadata": {
    "scrolled": true
   },
   "outputs": [
    {
     "name": "stdout",
     "output_type": "stream",
     "text": [
      "16.333333333333332\n"
     ]
    }
   ],
   "source": [
    "#BEDMA Bracket Exp Div Mul Add (includes subtraction)\n",
    "print(2 ** 2 * 6 - 8 + 3 / 9)"
   ]
  },
  {
   "cell_type": "code",
   "execution_count": 104,
   "metadata": {},
   "outputs": [
    {
     "name": "stdout",
     "output_type": "stream",
     "text": [
      "16.333333333333332\n"
     ]
    }
   ],
   "source": [
    "print((((2 ** 2) * 6) - 8) + (3 / 9)) # explicitly using Brackets to confirm the BEDMA rule"
   ]
  },
  {
   "cell_type": "code",
   "execution_count": 105,
   "metadata": {},
   "outputs": [
    {
     "name": "stdout",
     "output_type": "stream",
     "text": [
      "value a: 6 value b: 7\n",
      "6\n",
      "5\n"
     ]
    }
   ],
   "source": [
    "a = 5 # variable\n",
    "a += 1 # variable + 1 \n",
    "b = a + 1 # both above statement and this one is same\n",
    "print('value a:', a, 'value b:', b)\n",
    "print(a)\n",
    "a -= 1\n",
    "print(a)"
   ]
  },
  {
   "cell_type": "code",
   "execution_count": 106,
   "metadata": {},
   "outputs": [
    {
     "name": "stdout",
     "output_type": "stream",
     "text": [
      "True\n",
      "False\n",
      "True\n",
      "True\n",
      "True\n"
     ]
    }
   ],
   "source": [
    "#Logical\n",
    "print(2 < 9)\n",
    "print(True and False) \n",
    "print(True or False)\n",
    "print(6!=3)\n",
    "print(True and not False)"
   ]
  },
  {
   "cell_type": "code",
   "execution_count": 107,
   "metadata": {},
   "outputs": [
    {
     "name": "stdout",
     "output_type": "stream",
     "text": [
      "True\n",
      "False\n"
     ]
    },
    {
     "data": {
      "text/plain": [
       "4578294512"
      ]
     },
     "execution_count": 107,
     "metadata": {},
     "output_type": "execute_result"
    }
   ],
   "source": [
    "# is (indentity comparison)\n",
    "\n",
    "print([5] == [5])\n",
    "print([5] is [5])\n",
    "id([5])"
   ]
  },
  {
   "cell_type": "markdown",
   "metadata": {},
   "source": [
    "# Data Structures"
   ]
  },
  {
   "cell_type": "markdown",
   "metadata": {},
   "source": [
    "## Numbers"
   ]
  },
  {
   "cell_type": "code",
   "execution_count": 108,
   "metadata": {},
   "outputs": [
    {
     "name": "stdout",
     "output_type": "stream",
     "text": [
      "type of x: <class 'int'>\n",
      "type of 9.0: <class 'float'>\n",
      "squaring complex: (13+84j)\n",
      "<class 'complex'>\n",
      "True\n",
      "multiplying unit imaginaries: (-1+0j)\n"
     ]
    }
   ],
   "source": [
    "x = 7\n",
    "\n",
    "print('type of x:', type(x))\n",
    "\n",
    "print('type of 9.0:', type(9.0))\n",
    "\n",
    "y = 7 + 6j\n",
    "print('squaring complex:', y * y)\n",
    "print(type(y ))\n",
    "\n",
    "print(isinstance(y, complex))\n",
    "\n",
    "print('multiplying unit imaginaries:', (0+1j) * (0+1j))"
   ]
  },
  {
   "cell_type": "markdown",
   "metadata": {},
   "source": [
    "Binary - '0b' or '0B'\n",
    "Octal - '0o' or '0O'\n",
    "Hexadecimal - '0x' or '0X'"
   ]
  },
  {
   "cell_type": "code",
   "execution_count": 5,
   "metadata": {},
   "outputs": [
    {
     "name": "stdout",
     "output_type": "stream",
     "text": [
      "binary: 107\n",
      "hexadecimal: 253\n",
      "13\n"
     ]
    },
    {
     "data": {
      "text/plain": [
       "120"
      ]
     },
     "execution_count": 5,
     "metadata": {},
     "output_type": "execute_result"
    }
   ],
   "source": [
    "print('binary:', 0b1101011)\n",
    "\n",
    "print('hexadecimal:', 0xFB + 0b10)\n",
    "\n",
    "print(0o15)\n",
    "\n",
    "0b1101011 + 0o15 # it is possible to add different numbers from different bases in python."
   ]
  },
  {
   "cell_type": "code",
   "execution_count": 110,
   "metadata": {},
   "outputs": [
    {
     "data": {
      "text/plain": [
       "'0b1101011'"
      ]
     },
     "execution_count": 110,
     "metadata": {},
     "output_type": "execute_result"
    }
   ],
   "source": [
    "bin(107) # to convert to binary"
   ]
  },
  {
   "cell_type": "markdown",
   "metadata": {},
   "source": [
    "Type Conversion"
   ]
  },
  {
   "cell_type": "code",
   "execution_count": 111,
   "metadata": {},
   "outputs": [
    {
     "name": "stdout",
     "output_type": "stream",
     "text": [
      "1+10j\n"
     ]
    },
    {
     "data": {
      "text/plain": [
       "'1+10j'"
      ]
     },
     "execution_count": 111,
     "metadata": {},
     "output_type": "execute_result"
    }
   ],
   "source": [
    "int(7.2)\n",
    "int(-3.1)\n",
    "float(5)\n",
    "print('1+10j')\n",
    "'1+10j'"
   ]
  },
  {
   "cell_type": "markdown",
   "metadata": {},
   "source": [
    "## Strings"
   ]
  },
  {
   "cell_type": "code",
   "execution_count": 112,
   "metadata": {},
   "outputs": [
    {
     "name": "stdout",
     "output_type": "stream",
     "text": [
      "HELLO WORLD\n",
      "hello world\n"
     ]
    }
   ],
   "source": [
    "l = \"hello world\"\n",
    "print(l.upper())\n",
    "\n",
    "u = \"HELLO WORLD\"\n",
    "print(u.lower())"
   ]
  },
  {
   "cell_type": "code",
   "execution_count": 114,
   "metadata": {},
   "outputs": [
    {
     "data": {
      "text/plain": [
       "2"
      ]
     },
     "execution_count": 114,
     "metadata": {},
     "output_type": "execute_result"
    }
   ],
   "source": [
    "find_word = \"I scream, you scream, we all scream for ice cream\"\n",
    "find_word.find('scream')"
   ]
  },
  {
   "cell_type": "code",
   "execution_count": 115,
   "metadata": {},
   "outputs": [
    {
     "data": {
      "text/plain": [
       "'I cream, you cream, we all cream for ice cream'"
      ]
     },
     "execution_count": 115,
     "metadata": {},
     "output_type": "execute_result"
    }
   ],
   "source": [
    "find_word = \"I scream, you scream, we all scream for ice cream\"\n",
    "find_word.replace('scream', 'cream')"
   ]
  },
  {
   "cell_type": "code",
   "execution_count": 116,
   "metadata": {},
   "outputs": [
    {
     "name": "stdout",
     "output_type": "stream",
     "text": [
      "first_char: L\n",
      "second_char: P\n",
      "third_char: U\n",
      "all three chars together: LPU\n",
      "this is same as above operation: LPU\n"
     ]
    }
   ],
   "source": [
    "index_this_string = 'LPU guys are so disciplined and mischievous at the same time.'\n",
    "\n",
    "print('first_char:', index_this_string[0])\n",
    "print('second_char:', index_this_string[1])\n",
    "print('third_char:', index_this_string[2])\n",
    "\n",
    "print('all three chars together:', index_this_string[0:3])\n",
    "print('this is same as above operation:', index_this_string[:3])"
   ]
  },
  {
   "cell_type": "code",
   "execution_count": 117,
   "metadata": {},
   "outputs": [
    {
     "name": "stdout",
     "output_type": "stream",
     "text": [
      "number of oranges is 7\n"
     ]
    }
   ],
   "source": [
    "str_val = \"7 oranges\"\n",
    "no_of_oranges = str_val[0]\n",
    "print('number of oranges is', no_of_oranges)"
   ]
  },
  {
   "cell_type": "code",
   "execution_count": 118,
   "metadata": {},
   "outputs": [
    {
     "name": "stdout",
     "output_type": "stream",
     "text": [
      "oranges\n"
     ]
    }
   ],
   "source": [
    "val = str_val[2:]\n",
    "print(val)"
   ]
  },
  {
   "cell_type": "code",
   "execution_count": 119,
   "metadata": {},
   "outputs": [
    {
     "name": "stdout",
     "output_type": "stream",
     "text": [
      "ora\n"
     ]
    }
   ],
   "source": [
    "#slicing by specifying start and end index\n",
    "print(str_val[2:5])\n"
   ]
  },
  {
   "cell_type": "code",
   "execution_count": 120,
   "metadata": {},
   "outputs": [
    {
     "name": "stdout",
     "output_type": "stream",
     "text": [
      "4 bananas\n"
     ]
    }
   ],
   "source": [
    "sample_sentence = \"4 bananas 2 monkeys n\"\n",
    "fruit = sample_sentence[:9]\n",
    "print(fruit)"
   ]
  },
  {
   "cell_type": "code",
   "execution_count": 121,
   "metadata": {},
   "outputs": [
    {
     "name": "stdout",
     "output_type": "stream",
     "text": [
      "4 bananas 2 monkeys\n"
     ]
    }
   ],
   "source": [
    "print(sample_sentence[ :-2])"
   ]
  },
  {
   "cell_type": "code",
   "execution_count": 122,
   "metadata": {},
   "outputs": [
    {
     "name": "stdout",
     "output_type": "stream",
     "text": [
      "2 monkeys\n"
     ]
    }
   ],
   "source": [
    "animal = sample_sentence[10:-2]\n",
    "print(animal)"
   ]
  },
  {
   "cell_type": "code",
   "execution_count": 123,
   "metadata": {},
   "outputs": [
    {
     "name": "stdout",
     "output_type": "stream",
     "text": [
      "2468\n"
     ]
    }
   ],
   "source": [
    "nums = '123456789'\n",
    "even_nums = nums[1::2]\n",
    "print(even_nums)"
   ]
  },
  {
   "cell_type": "code",
   "execution_count": 124,
   "metadata": {},
   "outputs": [
    {
     "name": "stdout",
     "output_type": "stream",
     "text": [
      "13579\n"
     ]
    }
   ],
   "source": [
    "odd_nums = nums[0::2]\n",
    "print(odd_nums)"
   ]
  },
  {
   "cell_type": "code",
   "execution_count": 125,
   "metadata": {},
   "outputs": [
    {
     "data": {
      "text/plain": [
       "'13579'"
      ]
     },
     "execution_count": 125,
     "metadata": {},
     "output_type": "execute_result"
    }
   ],
   "source": [
    "odd_nums_again = nums[ :: 2]\n",
    "odd_nums_again"
   ]
  },
  {
   "cell_type": "code",
   "execution_count": 126,
   "metadata": {},
   "outputs": [],
   "source": [
    "first_name = \"Monty\"\n",
    "last_name = 'Python'"
   ]
  },
  {
   "cell_type": "code",
   "execution_count": 127,
   "metadata": {},
   "outputs": [
    {
     "name": "stdout",
     "output_type": "stream",
     "text": [
      "Monty Python\n"
     ]
    }
   ],
   "source": [
    "name = first_name + \" \" + last_name\n",
    "print(name)"
   ]
  },
  {
   "cell_type": "code",
   "execution_count": 128,
   "metadata": {},
   "outputs": [
    {
     "data": {
      "text/plain": [
       "'I am 30 years old'"
      ]
     },
     "execution_count": 128,
     "metadata": {},
     "output_type": "execute_result"
    }
   ],
   "source": [
    "age = 30\n",
    "my_age = (\"I am \"+ str(age) + \" years old\")\n",
    "my_age"
   ]
  },
  {
   "cell_type": "code",
   "execution_count": 129,
   "metadata": {},
   "outputs": [
    {
     "data": {
      "text/plain": [
       "'I am 30 years old'"
      ]
     },
     "execution_count": 129,
     "metadata": {},
     "output_type": "execute_result"
    }
   ],
   "source": [
    "My_age = \"I am {0} years old\".format(age) \n",
    "My_age"
   ]
  },
  {
   "cell_type": "code",
   "execution_count": 130,
   "metadata": {},
   "outputs": [
    {
     "name": "stdout",
     "output_type": "stream",
     "text": [
      "Welcome to using Python\n"
     ]
    }
   ],
   "source": [
    "A = \"Welcome\"\n",
    "B = \"to\"\n",
    "C = \"Python\"\n",
    "\n",
    "print(\"{0} {1} using {2}\".format(A,B,C))\n"
   ]
  },
  {
   "cell_type": "code",
   "execution_count": 131,
   "metadata": {},
   "outputs": [
    {
     "name": "stdout",
     "output_type": "stream",
     "text": [
      "Monty Python I am 30 years old\n"
     ]
    }
   ],
   "source": [
    "#concat and update\n",
    "name += ' ' + my_age\n",
    "print(name)"
   ]
  },
  {
   "cell_type": "code",
   "execution_count": 132,
   "metadata": {},
   "outputs": [
    {
     "name": "stdout",
     "output_type": "stream",
     "text": [
      "Is the space at the end required    \n",
      "Is the space at the end required\n"
     ]
    }
   ],
   "source": [
    "space_at_end = \"Is the space at the end required    \"\n",
    "print(space_at_end)\n",
    "print(space_at_end.rstrip())"
   ]
  },
  {
   "cell_type": "code",
   "execution_count": 133,
   "metadata": {},
   "outputs": [
    {
     "name": "stdout",
     "output_type": "stream",
     "text": [
      "7\n"
     ]
    }
   ],
   "source": [
    "symbol_strip = '7%'\n",
    "print(symbol_strip.rstrip('%')) "
   ]
  },
  {
   "cell_type": "code",
   "execution_count": 134,
   "metadata": {},
   "outputs": [
    {
     "name": "stdout",
     "output_type": "stream",
     "text": [
      "456\n"
     ]
    }
   ],
   "source": [
    "num_with_chars = '^456&'\n",
    "print(num_with_chars.rstrip('&').lstrip('^'))"
   ]
  },
  {
   "cell_type": "code",
   "execution_count": 135,
   "metadata": {},
   "outputs": [
    {
     "name": "stdout",
     "output_type": "stream",
     "text": [
      "   There is space at the start\n",
      "There is space at the start\n"
     ]
    }
   ],
   "source": [
    "space_at_start = \"   There is space at the start\"\n",
    "print(space_at_start)\n",
    "print(space_at_start.lstrip())"
   ]
  },
  {
   "cell_type": "code",
   "execution_count": 136,
   "metadata": {},
   "outputs": [
    {
     "ename": "NameError",
     "evalue": "name 'spaces' is not defined",
     "output_type": "error",
     "traceback": [
      "\u001b[0;31m---------------------------------------------------------------------------\u001b[0m",
      "\u001b[0;31mNameError\u001b[0m                                 Traceback (most recent call last)",
      "\u001b[0;32m<ipython-input-136-6c3724264ed6>\u001b[0m in \u001b[0;36m<module>\u001b[0;34m\u001b[0m\n\u001b[1;32m      1\u001b[0m \u001b[0mboth_spaces\u001b[0m \u001b[0;34m=\u001b[0m \u001b[0;34m\"   Trim whitespaces  \"\u001b[0m\u001b[0;34m\u001b[0m\u001b[0;34m\u001b[0m\u001b[0m\n\u001b[0;32m----> 2\u001b[0;31m \u001b[0mprint\u001b[0m\u001b[0;34m(\u001b[0m\u001b[0mspaces\u001b[0m\u001b[0;34m)\u001b[0m\u001b[0;34m\u001b[0m\u001b[0;34m\u001b[0m\u001b[0m\n\u001b[0m\u001b[1;32m      3\u001b[0m \u001b[0mprint\u001b[0m\u001b[0;34m(\u001b[0m\u001b[0mspaces\u001b[0m\u001b[0;34m.\u001b[0m\u001b[0mstrip\u001b[0m\u001b[0;34m(\u001b[0m\u001b[0;34m)\u001b[0m\u001b[0;34m)\u001b[0m\u001b[0;34m\u001b[0m\u001b[0;34m\u001b[0m\u001b[0m\n",
      "\u001b[0;31mNameError\u001b[0m: name 'spaces' is not defined"
     ]
    }
   ],
   "source": [
    "both_spaces = \"   Trim whitespaces  \"\n",
    "print(spaces)\n",
    "print(spaces.strip())"
   ]
  },
  {
   "cell_type": "code",
   "execution_count": 14,
   "metadata": {},
   "outputs": [],
   "source": [
    "# ? Split the first name and last name\n",
    "\n",
    "srajans_name = 'Srajan Kumar Shukla'\n",
    "first_name, middle_name, last_name = srajans_name.split()"
   ]
  },
  {
   "cell_type": "code",
   "execution_count": 15,
   "metadata": {},
   "outputs": [
    {
     "name": "stdout",
     "output_type": "stream",
     "text": [
      "Srajan\n",
      "Kumar\n",
      "Shukla\n"
     ]
    }
   ],
   "source": [
    "print(first_name)\n",
    "print(middle_name)\n",
    "print(last_name)"
   ]
  },
  {
   "cell_type": "code",
   "execution_count": 17,
   "metadata": {},
   "outputs": [],
   "source": [
    "_, rest_of_the_string = srajans_name.split('Sra')"
   ]
  },
  {
   "cell_type": "code",
   "execution_count": 25,
   "metadata": {},
   "outputs": [
    {
     "data": {
      "text/plain": [
       "['Srajan', 'Kumar', 'Shukla']"
      ]
     },
     "execution_count": 25,
     "metadata": {},
     "output_type": "execute_result"
    }
   ],
   "source": [
    "first_three = srajans_name[:3]\n",
    "rest_of_the_string\n",
    "\n",
    "# we can use regex for this purpose.\n",
    "srajans_name.split(' ', 1)"
   ]
  },
  {
   "cell_type": "code",
   "execution_count": 16,
   "metadata": {},
   "outputs": [
    {
     "name": "stdout",
     "output_type": "stream",
     "text": [
      "Help on built-in function split:\n",
      "\n",
      "split(sep=None, maxsplit=-1) method of builtins.str instance\n",
      "    Return a list of the words in the string, using sep as the delimiter string.\n",
      "    \n",
      "    sep\n",
      "      The delimiter according which to split the string.\n",
      "      None (the default value) means split according to any whitespace,\n",
      "      and discard empty strings from the result.\n",
      "    maxsplit\n",
      "      Maximum number of splits to do.\n",
      "      -1 (the default value) means no limit.\n",
      "\n"
     ]
    }
   ],
   "source": [
    "str.split # use shift + tab here to call help\n",
    "''.split # shift + tab does not work here."
   ]
  },
  {
   "cell_type": "code",
   "execution_count": 27,
   "metadata": {},
   "outputs": [
    {
     "data": {
      "text/plain": [
       "'The quick red fox jumps over a lazy dog.'"
      ]
     },
     "execution_count": 27,
     "metadata": {},
     "output_type": "execute_result"
    }
   ],
   "source": [
    "# ? find replace\n",
    "\n",
    "all_alpha_string = 'The quick brown fox jumps over a lazy dog.'\n",
    "\n",
    "all_alpha_string.replace('brown', 'red')"
   ]
  },
  {
   "cell_type": "code",
   "execution_count": 31,
   "metadata": {},
   "outputs": [
    {
     "data": {
      "text/plain": [
       "'The quick red fox jumps over a lazy dog.'"
      ]
     },
     "execution_count": 31,
     "metadata": {},
     "output_type": "execute_result"
    }
   ],
   "source": [
    "# if there were two occurences\n",
    "\n",
    "all_alpha_string_two_occurences = 'The quick brown brown fox jumps over a lazy dog.'\n",
    "\n",
    "all_alpha_string_two_occurences.replace('brown brown', 'red', 1)"
   ]
  },
  {
   "cell_type": "code",
   "execution_count": null,
   "metadata": {},
   "outputs": [],
   "source": [
    "help(all_alpha_string.replace)"
   ]
  },
  {
   "cell_type": "code",
   "execution_count": null,
   "metadata": {},
   "outputs": [],
   "source": []
  },
  {
   "cell_type": "code",
   "execution_count": 33,
   "metadata": {},
   "outputs": [
    {
     "data": {
      "text/plain": [
       "'Please Listen To Me Carefully.'"
      ]
     },
     "execution_count": 33,
     "metadata": {},
     "output_type": "execute_result"
    }
   ],
   "source": [
    "# ? capitalize first letter of every word\n",
    "# we call it a title case\n",
    "\n",
    "lets_capitalize_to_shout_out_loud = 'Please listen to me carefully.'\n",
    "\n",
    "lets_capitalize_to_shout_out_loud.title()"
   ]
  },
  {
   "cell_type": "code",
   "execution_count": 43,
   "metadata": {},
   "outputs": [
    {
     "data": {
      "text/plain": [
       "'PLEASE! Listen.To.Me.Guys. FOCUS!Here.'"
      ]
     },
     "execution_count": 43,
     "metadata": {},
     "output_type": "execute_result"
    }
   ],
   "source": [
    "('Please.listen.to.me.guys.focus.here.'\n",
    " .title()\n",
    " .replace('Please.', \"PLEASE! \")\n",
    " .replace('Focus.', ' FOCUS!'))\n"
   ]
  },
  {
   "cell_type": "code",
   "execution_count": 46,
   "metadata": {},
   "outputs": [
    {
     "data": {
      "text/plain": [
       "18"
      ]
     },
     "execution_count": 46,
     "metadata": {},
     "output_type": "execute_result"
    }
   ],
   "source": [
    "# ? where this word start from in the string\n",
    "\n",
    "i_want_to_find_srajans_name_in_this_string = 'xyz abc Priyanshu Srajan Vinod'\n",
    "\n",
    "i_want_to_find_srajans_name_in_this_string.index('Srajan')"
   ]
  },
  {
   "cell_type": "code",
   "execution_count": 48,
   "metadata": {},
   "outputs": [
    {
     "data": {
      "text/plain": [
       "-1"
      ]
     },
     "execution_count": 48,
     "metadata": {},
     "output_type": "execute_result"
    }
   ],
   "source": [
    "i_want_to_find_srajans_name_in_this_string.find('Srajan')"
   ]
  },
  {
   "cell_type": "code",
   "execution_count": 49,
   "metadata": {},
   "outputs": [
    {
     "data": {
      "text/plain": [
       "'t'"
      ]
     },
     "execution_count": 49,
     "metadata": {},
     "output_type": "execute_result"
    }
   ],
   "source": [
    "# slicing\n",
    "\n",
    "extract_third_character_from_string = 'extract third char'\n",
    "\n",
    "extract_third_character_from_string[2]\n"
   ]
  },
  {
   "cell_type": "code",
   "execution_count": 52,
   "metadata": {},
   "outputs": [
    {
     "name": "stdout",
     "output_type": "stream",
     "text": [
      "first\n",
      " five chars\n"
     ]
    }
   ],
   "source": [
    "extract_first_five_characters = 'first five chars'\n",
    "print(extract_first_five_characters[0:5])\n",
    "print(extract_first_five_characters[:5]) # above statement is same\n",
    "# print(extract_first_five_characters[start:end:step])\n",
    "\n"
   ]
  },
  {
   "cell_type": "code",
   "execution_count": 59,
   "metadata": {
    "scrolled": true
   },
   "outputs": [
    {
     "name": "stdout",
     "output_type": "stream",
     "text": [
      "SrajanShukla\n"
     ]
    }
   ],
   "source": [
    "this_string_has_alternate_spaces = 'S r a j a n S h u k l a'\n",
    "\n",
    "this_string_has_alternate_spaces_but_not_now = this_string_has_alternate_spaces[::2]\n",
    "\n",
    "print(this_string_has_alternate_spaces_but_not_now)\n"
   ]
  },
  {
   "cell_type": "code",
   "execution_count": 71,
   "metadata": {},
   "outputs": [
    {
     "data": {
      "text/plain": [
       "'r'"
      ]
     },
     "execution_count": 71,
     "metadata": {},
     "output_type": "execute_result"
    }
   ],
   "source": [
    "last_char = 'I want to get the last char'\n",
    "\n",
    "last_char[-1] # negative indexes can also be used."
   ]
  },
  {
   "cell_type": "code",
   "execution_count": 69,
   "metadata": {},
   "outputs": [],
   "source": [
    "# ? reverse operation\n",
    "\n",
    "reversed_name = 'alkuhS najarS'\n",
    "\n",
    "correct_name = reversed_name[::-1]"
   ]
  },
  {
   "cell_type": "code",
   "execution_count": 64,
   "metadata": {},
   "outputs": [
    {
     "name": "stdout",
     "output_type": "stream",
     "text": [
      "Srajan Shukla\n"
     ]
    }
   ],
   "source": [
    "print(correct_name)"
   ]
  },
  {
   "cell_type": "code",
   "execution_count": 79,
   "metadata": {
    "scrolled": true
   },
   "outputs": [
    {
     "data": {
      "text/plain": [
       "'Srajan Shukla'"
      ]
     },
     "execution_count": 79,
     "metadata": {},
     "output_type": "execute_result"
    }
   ],
   "source": [
    "'alkuhS najarS'[::-1]"
   ]
  },
  {
   "cell_type": "code",
   "execution_count": 81,
   "metadata": {},
   "outputs": [],
   "source": [
    "# ? to convert to upper case\n",
    "\n",
    "\n",
    "i_m_angry = 'I\\'m angry with you.'\n",
    "\n",
    "angry_upper = i_m_angry.upper()\n",
    "\n",
    "# ? to convert to lower case\n",
    "\n",
    "\n",
    "i_m_less_angry =  angry_upper.lower()"
   ]
  },
  {
   "cell_type": "code",
   "execution_count": 83,
   "metadata": {},
   "outputs": [
    {
     "name": "stdout",
     "output_type": "stream",
     "text": [
      "I'M ANGRY WITH YOU.\n",
      "i'm angry with you.\n"
     ]
    }
   ],
   "source": [
    "\n",
    "\n",
    "print(angry_upper)\n",
    "print(i_m_less_angry)"
   ]
  },
  {
   "cell_type": "code",
   "execution_count": 85,
   "metadata": {},
   "outputs": [
    {
     "name": "stdout",
     "output_type": "stream",
     "text": [
      "Roger That\n"
     ]
    }
   ],
   "source": [
    "# ? concat\n",
    "\n",
    "first_name = 'Roger'\n",
    "last_name = 'That'\n",
    "\n",
    "full_name = first_name + ' ' + last_name\n",
    "print(full_name)"
   ]
  },
  {
   "cell_type": "code",
   "execution_count": 88,
   "metadata": {},
   "outputs": [
    {
     "name": "stdout",
     "output_type": "stream",
     "text": [
      "Tutor Akarsh Jain teaches the strength of 28 students. He works in organisation named Upgrad and he uses Telgram app for chat purpose. \n",
      "\n",
      "Tutor Akarsh Jain teaches the strength of 28 students. He works in organisation named Upgrad and he uses Telegram app for chat purpose.\n"
     ]
    }
   ],
   "source": [
    "# string formatting making things look sexier\n",
    "\n",
    "# using fstring\n",
    "\n",
    "name = 'Akarsh Jain'\n",
    "strength_of = 28\n",
    "organization = 'Upgrad'\n",
    "chat_app = 'Telegram'\n",
    "\n",
    "comprehensive_string = 'Tutor Akarsh Jain teaches the strength of 28 students. He works in organisation named Upgrad and he uses Telgram app for chat purpose.'\n",
    "\n",
    "comprehensive_string_using_fstring = f'Tutor {name} teaches the strength of {strength_of} students. He works in organisation named {organization} and he uses {chat_app} app for chat purpose.'\n",
    "\n",
    "print(comprehensive_string, '\\n')\n",
    "print(comprehensive_string_using_fstring)"
   ]
  },
  {
   "cell_type": "code",
   "execution_count": 90,
   "metadata": {},
   "outputs": [
    {
     "name": "stdout",
     "output_type": "stream",
     "text": [
      "Tutor 40 teaches the strength of Srajan Shukla students. He works in organisation named Upgrad and he uses Telegram app for chat purpose.\n"
     ]
    }
   ],
   "source": [
    "# using format method\n",
    "\n",
    "name = 'Srajan Shukla'\n",
    "strength_of = 40\n",
    "organization = 'Upgrad'\n",
    "chat_app = 'Telegram'\n",
    "\n",
    "comprehensive_string_using_format_method = 'Tutor {} teaches the strength of {} students. He works in organisation named {} and he uses {} app for chat purpose.'\n",
    "\n",
    "readable_result = comprehensive_string_using_format_method.format(name, strength_of, organization, chat_app)\n",
    "\n",
    "print(readable_result)"
   ]
  },
  {
   "cell_type": "code",
   "execution_count": 93,
   "metadata": {},
   "outputs": [
    {
     "data": {
      "text/plain": [
       "'first_arg: second_arg, second_arg: first_arg'"
      ]
     },
     "execution_count": 93,
     "metadata": {},
     "output_type": "execute_result"
    }
   ],
   "source": []
  },
  {
   "cell_type": "code",
   "execution_count": null,
   "metadata": {},
   "outputs": [],
   "source": []
  },
  {
   "cell_type": "code",
   "execution_count": null,
   "metadata": {},
   "outputs": [],
   "source": [
    "? to print like first name is this and last name is this\n",
    "? copy one string to another\n",
    "? placing spaces\n",
    "? padding\n",
    "? number of substring present in the big string?\n",
    "? length of a given string\n",
    "? repeat the string\n",
    "? distinct char in string \n",
    "? finding vowels\n",
    "? nth max\n",
    "? number of uppercase -> "
   ]
  },
  {
   "cell_type": "code",
   "execution_count": null,
   "metadata": {},
   "outputs": [],
   "source": []
  },
  {
   "cell_type": "code",
   "execution_count": null,
   "metadata": {},
   "outputs": [],
   "source": []
  },
  {
   "cell_type": "code",
   "execution_count": null,
   "metadata": {},
   "outputs": [],
   "source": []
  },
  {
   "cell_type": "code",
   "execution_count": null,
   "metadata": {},
   "outputs": [],
   "source": []
  },
  {
   "cell_type": "code",
   "execution_count": null,
   "metadata": {},
   "outputs": [],
   "source": []
  },
  {
   "cell_type": "code",
   "execution_count": null,
   "metadata": {},
   "outputs": [],
   "source": []
  },
  {
   "cell_type": "code",
   "execution_count": null,
   "metadata": {},
   "outputs": [],
   "source": []
  },
  {
   "cell_type": "code",
   "execution_count": null,
   "metadata": {},
   "outputs": [],
   "source": []
  },
  {
   "cell_type": "code",
   "execution_count": null,
   "metadata": {},
   "outputs": [],
   "source": []
  },
  {
   "cell_type": "code",
   "execution_count": null,
   "metadata": {},
   "outputs": [],
   "source": []
  },
  {
   "cell_type": "code",
   "execution_count": null,
   "metadata": {},
   "outputs": [],
   "source": []
  },
  {
   "cell_type": "code",
   "execution_count": null,
   "metadata": {},
   "outputs": [],
   "source": []
  },
  {
   "cell_type": "code",
   "execution_count": null,
   "metadata": {},
   "outputs": [],
   "source": []
  },
  {
   "cell_type": "code",
   "execution_count": null,
   "metadata": {},
   "outputs": [],
   "source": []
  },
  {
   "cell_type": "code",
   "execution_count": null,
   "metadata": {},
   "outputs": [],
   "source": []
  },
  {
   "cell_type": "code",
   "execution_count": null,
   "metadata": {},
   "outputs": [],
   "source": []
  },
  {
   "cell_type": "code",
   "execution_count": null,
   "metadata": {},
   "outputs": [],
   "source": []
  },
  {
   "cell_type": "code",
   "execution_count": null,
   "metadata": {},
   "outputs": [],
   "source": []
  },
  {
   "cell_type": "code",
   "execution_count": null,
   "metadata": {},
   "outputs": [],
   "source": []
  },
  {
   "cell_type": "code",
   "execution_count": null,
   "metadata": {},
   "outputs": [],
   "source": []
  },
  {
   "cell_type": "code",
   "execution_count": null,
   "metadata": {},
   "outputs": [],
   "source": []
  },
  {
   "cell_type": "code",
   "execution_count": null,
   "metadata": {},
   "outputs": [],
   "source": []
  },
  {
   "cell_type": "code",
   "execution_count": null,
   "metadata": {},
   "outputs": [],
   "source": [
    "# ? frequency of character count\n"
   ]
  },
  {
   "cell_type": "code",
   "execution_count": null,
   "metadata": {},
   "outputs": [],
   "source": []
  },
  {
   "cell_type": "code",
   "execution_count": null,
   "metadata": {},
   "outputs": [],
   "source": []
  },
  {
   "cell_type": "code",
   "execution_count": null,
   "metadata": {},
   "outputs": [],
   "source": []
  },
  {
   "cell_type": "code",
   "execution_count": null,
   "metadata": {},
   "outputs": [],
   "source": []
  }
 ],
 "metadata": {
  "anaconda-cloud": {},
  "kernelspec": {
   "display_name": "Python 3",
   "language": "python",
   "name": "python3"
  },
  "language_info": {
   "codemirror_mode": {
    "name": "ipython",
    "version": 3
   },
   "file_extension": ".py",
   "mimetype": "text/x-python",
   "name": "python",
   "nbconvert_exporter": "python",
   "pygments_lexer": "ipython3",
   "version": "3.7.6"
  }
 },
 "nbformat": 4,
 "nbformat_minor": 1
}
