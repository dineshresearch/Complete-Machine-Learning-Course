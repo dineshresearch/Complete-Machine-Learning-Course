{
 "cells": [
  {
   "cell_type": "code",
   "execution_count": 11,
   "metadata": {
    "collapsed": true
   },
   "outputs": [],
   "source": [
    "import xgboost"
   ]
  },
  {
   "cell_type": "code",
   "execution_count": 12,
   "metadata": {
    "collapsed": true
   },
   "outputs": [],
   "source": [
    "from numpy import loadtxt\n",
    "from xgboost import XGBClassifier\n",
    "from sklearn.model_selection import train_test_split\n",
    "from sklearn.metrics import accuracy_score"
   ]
  },
  {
   "cell_type": "code",
   "execution_count": 13,
   "metadata": {
    "collapsed": true,
    "scrolled": true
   },
   "outputs": [],
   "source": [
    "# load data\n",
    "dataset = loadtxt('pima-indians-diabetes.data.csv', delimiter=\",\")"
   ]
  },
  {
   "cell_type": "code",
   "execution_count": 14,
   "metadata": {
    "collapsed": true
   },
   "outputs": [],
   "source": [
    "# split data into X and y\n",
    "X = dataset[:,0:8]\n",
    "Y = dataset[:,8]"
   ]
  },
  {
   "cell_type": "code",
   "execution_count": 15,
   "metadata": {
    "collapsed": true
   },
   "outputs": [],
   "source": [
    "# split data into train and test sets\n",
    "seed = 7\n",
    "test_size = 0.33\n",
    "X_train, X_test, y_train, y_test = train_test_split(X, Y, test_size=test_size, random_state=seed)"
   ]
  },
  {
   "cell_type": "code",
   "execution_count": 16,
   "metadata": {},
   "outputs": [
    {
     "name": "stdout",
     "output_type": "stream",
     "text": [
      "XGBClassifier(base_score=0.5, booster='gbtree', colsample_bylevel=1,\n",
      "              colsample_bytree=1, gamma=0, learning_rate=0.1, max_delta_step=0,\n",
      "              max_depth=3, min_child_weight=1, missing=None, n_estimators=100,\n",
      "              n_jobs=1, nthread=None, objective='binary:logistic',\n",
      "              random_state=0, reg_alpha=0, reg_lambda=1, scale_pos_weight=1,\n",
      "              seed=None, silent=True, subsample=1)\n"
     ]
    }
   ],
   "source": [
    "# fit model no training data\n",
    "model1 = XGBClassifier()\n",
    "print(model1)"
   ]
  },
  {
   "cell_type": "code",
   "execution_count": 17,
   "metadata": {},
   "outputs": [
    {
     "name": "stdout",
     "output_type": "stream",
     "text": [
      "XGBClassifier(base_score=0.5, booster='gbtree', colsample_bylevel=1,\n",
      "              colsample_bytree=0.4, gamma=10, learning_rate=0.01,\n",
      "              max_delta_step=0, max_depth=4, min_child_weight=1, missing=None,\n",
      "              n_estimators=1000, n_jobs=1, nthread=None,\n",
      "              objective='binary:logistic', random_state=0, reg_alpha=0.3,\n",
      "              reg_lambda=1, scale_pos_weight=1, seed=None, silent=False,\n",
      "              subsample=0.8)\n"
     ]
    }
   ],
   "source": [
    "model2 = XGBClassifier(silent=False, \n",
    "                      scale_pos_weight=1,\n",
    "                      learning_rate=0.01,  \n",
    "                      colsample_bytree = 0.4,\n",
    "                      subsample = 0.8,\n",
    "                      objective='binary:logistic', \n",
    "                      n_estimators=1000, \n",
    "                      reg_alpha = 0.3,\n",
    "                      max_depth=4, \n",
    "                      gamma=10)\n",
    "print(model2)"
   ]
  },
  {
   "cell_type": "code",
   "execution_count": 18,
   "metadata": {},
   "outputs": [
    {
     "name": "stdout",
     "output_type": "stream",
     "text": [
      "Accuracy: 77.95%\n"
     ]
    }
   ],
   "source": [
    "model1.fit(X_train, y_train)\n",
    "# make predictions for test data\n",
    "y_pred = model1.predict(X_test)\n",
    "predictions = [round(value) for value in y_pred]\n",
    "# evaluate predictions\n",
    "accuracy = accuracy_score(y_test, predictions)\n",
    "print(\"Accuracy: %.2f%%\" % (accuracy * 100.0))"
   ]
  },
  {
   "cell_type": "code",
   "execution_count": 19,
   "metadata": {},
   "outputs": [
    {
     "name": "stdout",
     "output_type": "stream",
     "text": [
      "[0]\tvalidation_0-auc:0.852306\tvalidation_0-error:0.22179\tvalidation_1-auc:0.817834\tvalidation_1-error:0.259843\n",
      "[1]\tvalidation_0-auc:0.864931\tvalidation_0-error:0.202335\tvalidation_1-auc:0.816861\tvalidation_1-error:0.26378\n",
      "[2]\tvalidation_0-auc:0.868797\tvalidation_0-error:0.196498\tvalidation_1-auc:0.817297\tvalidation_1-error:0.26378\n",
      "[3]\tvalidation_0-auc:0.880144\tvalidation_0-error:0.200389\tvalidation_1-auc:0.824913\tvalidation_1-error:0.255906\n",
      "[4]\tvalidation_0-auc:0.876832\tvalidation_0-error:0.202335\tvalidation_1-auc:0.823034\tvalidation_1-error:0.255906\n",
      "[5]\tvalidation_0-auc:0.88006\tvalidation_0-error:0.202335\tvalidation_1-auc:0.824946\tvalidation_1-error:0.26378\n",
      "[6]\tvalidation_0-auc:0.884985\tvalidation_0-error:0.194553\tvalidation_1-auc:0.822632\tvalidation_1-error:0.23622\n",
      "[7]\tvalidation_0-auc:0.885666\tvalidation_0-error:0.200389\tvalidation_1-auc:0.827026\tvalidation_1-error:0.255906\n",
      "[8]\tvalidation_0-auc:0.892516\tvalidation_0-error:0.194553\tvalidation_1-auc:0.824242\tvalidation_1-error:0.248031\n",
      "[9]\tvalidation_0-auc:0.892861\tvalidation_0-error:0.188716\tvalidation_1-auc:0.825114\tvalidation_1-error:0.248031\n",
      "[10]\tvalidation_0-auc:0.894306\tvalidation_0-error:0.184825\tvalidation_1-auc:0.823705\tvalidation_1-error:0.248031\n",
      "[11]\tvalidation_0-auc:0.896719\tvalidation_0-error:0.180934\tvalidation_1-auc:0.826557\tvalidation_1-error:0.232283\n",
      "[12]\tvalidation_0-auc:0.897988\tvalidation_0-error:0.177043\tvalidation_1-auc:0.826087\tvalidation_1-error:0.228346\n",
      "[13]\tvalidation_0-auc:0.898601\tvalidation_0-error:0.178988\tvalidation_1-auc:0.828637\tvalidation_1-error:0.228346\n",
      "[14]\tvalidation_0-auc:0.901451\tvalidation_0-error:0.177043\tvalidation_1-auc:0.826188\tvalidation_1-error:0.228346\n",
      "[15]\tvalidation_0-auc:0.903779\tvalidation_0-error:0.175097\tvalidation_1-auc:0.827261\tvalidation_1-error:0.228346\n",
      "[16]\tvalidation_0-auc:0.904947\tvalidation_0-error:0.173152\tvalidation_1-auc:0.824678\tvalidation_1-error:0.228346\n",
      "[17]\tvalidation_0-auc:0.905309\tvalidation_0-error:0.173152\tvalidation_1-auc:0.825349\tvalidation_1-error:0.228346\n",
      "[18]\tvalidation_0-auc:0.907721\tvalidation_0-error:0.173152\tvalidation_1-auc:0.827798\tvalidation_1-error:0.224409\n",
      "[19]\tvalidation_0-auc:0.908452\tvalidation_0-error:0.173152\tvalidation_1-auc:0.830213\tvalidation_1-error:0.232283\n",
      "[20]\tvalidation_0-auc:0.9102\tvalidation_0-error:0.167315\tvalidation_1-auc:0.829509\tvalidation_1-error:0.232283\n",
      "[21]\tvalidation_0-auc:0.910974\tvalidation_0-error:0.169261\tvalidation_1-auc:0.827865\tvalidation_1-error:0.23622\n",
      "[22]\tvalidation_0-auc:0.911739\tvalidation_0-error:0.171206\tvalidation_1-auc:0.828335\tvalidation_1-error:0.23622\n",
      "[23]\tvalidation_0-auc:0.913764\tvalidation_0-error:0.173152\tvalidation_1-auc:0.828771\tvalidation_1-error:0.232283\n",
      "[24]\tvalidation_0-auc:0.913688\tvalidation_0-error:0.177043\tvalidation_1-auc:0.828435\tvalidation_1-error:0.228346\n",
      "[25]\tvalidation_0-auc:0.914361\tvalidation_0-error:0.173152\tvalidation_1-auc:0.829006\tvalidation_1-error:0.228346\n",
      "[26]\tvalidation_0-auc:0.915084\tvalidation_0-error:0.177043\tvalidation_1-auc:0.828435\tvalidation_1-error:0.224409\n",
      "[27]\tvalidation_0-auc:0.916294\tvalidation_0-error:0.177043\tvalidation_1-auc:0.829173\tvalidation_1-error:0.224409\n",
      "[28]\tvalidation_0-auc:0.91695\tvalidation_0-error:0.177043\tvalidation_1-auc:0.828704\tvalidation_1-error:0.228346\n",
      "[29]\tvalidation_0-auc:0.918093\tvalidation_0-error:0.175097\tvalidation_1-auc:0.829039\tvalidation_1-error:0.232283\n",
      "[30]\tvalidation_0-auc:0.920093\tvalidation_0-error:0.175097\tvalidation_1-auc:0.831119\tvalidation_1-error:0.228346\n",
      "[31]\tvalidation_0-auc:0.920673\tvalidation_0-error:0.177043\tvalidation_1-auc:0.832461\tvalidation_1-error:0.224409\n",
      "[32]\tvalidation_0-auc:0.920774\tvalidation_0-error:0.178988\tvalidation_1-auc:0.833132\tvalidation_1-error:0.224409\n",
      "[33]\tvalidation_0-auc:0.921648\tvalidation_0-error:0.175097\tvalidation_1-auc:0.832595\tvalidation_1-error:0.228346\n",
      "[34]\tvalidation_0-auc:0.923127\tvalidation_0-error:0.171206\tvalidation_1-auc:0.83226\tvalidation_1-error:0.228346\n",
      "[35]\tvalidation_0-auc:0.925153\tvalidation_0-error:0.16537\tvalidation_1-auc:0.832428\tvalidation_1-error:0.224409\n",
      "[36]\tvalidation_0-auc:0.925632\tvalidation_0-error:0.177043\tvalidation_1-auc:0.832394\tvalidation_1-error:0.228346\n",
      "[37]\tvalidation_0-auc:0.926414\tvalidation_0-error:0.163424\tvalidation_1-auc:0.831656\tvalidation_1-error:0.224409\n",
      "[38]\tvalidation_0-auc:0.927506\tvalidation_0-error:0.169261\tvalidation_1-auc:0.831991\tvalidation_1-error:0.216535\n",
      "[39]\tvalidation_0-auc:0.928011\tvalidation_0-error:0.167315\tvalidation_1-auc:0.830918\tvalidation_1-error:0.220472\n",
      "[40]\tvalidation_0-auc:0.929356\tvalidation_0-error:0.16537\tvalidation_1-auc:0.831388\tvalidation_1-error:0.216535\n",
      "[41]\tvalidation_0-auc:0.930078\tvalidation_0-error:0.167315\tvalidation_1-auc:0.830851\tvalidation_1-error:0.216535\n",
      "[42]\tvalidation_0-auc:0.931205\tvalidation_0-error:0.159533\tvalidation_1-auc:0.829844\tvalidation_1-error:0.216535\n",
      "[43]\tvalidation_0-auc:0.932835\tvalidation_0-error:0.155642\tvalidation_1-auc:0.830985\tvalidation_1-error:0.216535\n",
      "[44]\tvalidation_0-auc:0.934878\tvalidation_0-error:0.151751\tvalidation_1-auc:0.830247\tvalidation_1-error:0.212598\n",
      "[45]\tvalidation_0-auc:0.935937\tvalidation_0-error:0.149805\tvalidation_1-auc:0.831052\tvalidation_1-error:0.224409\n",
      "[46]\tvalidation_0-auc:0.936575\tvalidation_0-error:0.145914\tvalidation_1-auc:0.831522\tvalidation_1-error:0.224409\n",
      "[47]\tvalidation_0-auc:0.938189\tvalidation_0-error:0.143969\tvalidation_1-auc:0.832058\tvalidation_1-error:0.220472\n",
      "[48]\tvalidation_0-auc:0.938475\tvalidation_0-error:0.143969\tvalidation_1-auc:0.831723\tvalidation_1-error:0.224409\n",
      "[49]\tvalidation_0-auc:0.93987\tvalidation_0-error:0.142023\tvalidation_1-auc:0.829979\tvalidation_1-error:0.232283\n",
      "[50]\tvalidation_0-auc:0.940929\tvalidation_0-error:0.136187\tvalidation_1-auc:0.832193\tvalidation_1-error:0.228346\n",
      "[51]\tvalidation_0-auc:0.941165\tvalidation_0-error:0.138132\tvalidation_1-auc:0.831857\tvalidation_1-error:0.224409\n",
      "[52]\tvalidation_0-auc:0.941719\tvalidation_0-error:0.138132\tvalidation_1-auc:0.83179\tvalidation_1-error:0.224409\n",
      "[53]\tvalidation_0-auc:0.943148\tvalidation_0-error:0.138132\tvalidation_1-auc:0.831052\tvalidation_1-error:0.232283\n",
      "[54]\tvalidation_0-auc:0.944123\tvalidation_0-error:0.132296\tvalidation_1-auc:0.829979\tvalidation_1-error:0.228346\n",
      "[55]\tvalidation_0-auc:0.945401\tvalidation_0-error:0.136187\tvalidation_1-auc:0.827899\tvalidation_1-error:0.228346\n",
      "[56]\tvalidation_0-auc:0.945821\tvalidation_0-error:0.134241\tvalidation_1-auc:0.827429\tvalidation_1-error:0.224409\n",
      "[57]\tvalidation_0-auc:0.946863\tvalidation_0-error:0.13035\tvalidation_1-auc:0.828704\tvalidation_1-error:0.224409\n",
      "[58]\tvalidation_0-auc:0.947317\tvalidation_0-error:0.13035\tvalidation_1-auc:0.829308\tvalidation_1-error:0.224409\n",
      "[59]\tvalidation_0-auc:0.94809\tvalidation_0-error:0.13035\tvalidation_1-auc:0.828435\tvalidation_1-error:0.224409\n",
      "[60]\tvalidation_0-auc:0.948998\tvalidation_0-error:0.128405\tvalidation_1-auc:0.827899\tvalidation_1-error:0.224409\n",
      "[61]\tvalidation_0-auc:0.949166\tvalidation_0-error:0.128405\tvalidation_1-auc:0.827093\tvalidation_1-error:0.224409\n",
      "[62]\tvalidation_0-auc:0.95036\tvalidation_0-error:0.126459\tvalidation_1-auc:0.826892\tvalidation_1-error:0.224409\n",
      "[63]\tvalidation_0-auc:0.950629\tvalidation_0-error:0.126459\tvalidation_1-auc:0.827093\tvalidation_1-error:0.224409\n",
      "[64]\tvalidation_0-auc:0.950914\tvalidation_0-error:0.126459\tvalidation_1-auc:0.826892\tvalidation_1-error:0.224409\n",
      "[65]\tvalidation_0-auc:0.951335\tvalidation_0-error:0.126459\tvalidation_1-auc:0.825953\tvalidation_1-error:0.224409\n",
      "[66]\tvalidation_0-auc:0.952495\tvalidation_0-error:0.122568\tvalidation_1-auc:0.826087\tvalidation_1-error:0.220472\n",
      "[67]\tvalidation_0-auc:0.953083\tvalidation_0-error:0.122568\tvalidation_1-auc:0.826557\tvalidation_1-error:0.216535\n",
      "[68]\tvalidation_0-auc:0.953251\tvalidation_0-error:0.118677\tvalidation_1-auc:0.825483\tvalidation_1-error:0.216535\n",
      "[69]\tvalidation_0-auc:0.953318\tvalidation_0-error:0.120623\tvalidation_1-auc:0.826221\tvalidation_1-error:0.216535\n",
      "[70]\tvalidation_0-auc:0.953974\tvalidation_0-error:0.120623\tvalidation_1-auc:0.826355\tvalidation_1-error:0.216535\n",
      "[71]\tvalidation_0-auc:0.954966\tvalidation_0-error:0.122568\tvalidation_1-auc:0.825819\tvalidation_1-error:0.216535\n",
      "[72]\tvalidation_0-auc:0.95547\tvalidation_0-error:0.120623\tvalidation_1-auc:0.825416\tvalidation_1-error:0.216535\n"
     ]
    },
    {
     "name": "stdout",
     "output_type": "stream",
     "text": [
      "[73]\tvalidation_0-auc:0.956243\tvalidation_0-error:0.120623\tvalidation_1-auc:0.825953\tvalidation_1-error:0.216535\n",
      "[74]\tvalidation_0-auc:0.956378\tvalidation_0-error:0.118677\tvalidation_1-auc:0.826825\tvalidation_1-error:0.216535\n",
      "[75]\tvalidation_0-auc:0.956714\tvalidation_0-error:0.118677\tvalidation_1-auc:0.826557\tvalidation_1-error:0.216535\n",
      "[76]\tvalidation_0-auc:0.956714\tvalidation_0-error:0.116732\tvalidation_1-auc:0.827563\tvalidation_1-error:0.216535\n",
      "[77]\tvalidation_0-auc:0.958143\tvalidation_0-error:0.116732\tvalidation_1-auc:0.828771\tvalidation_1-error:0.216535\n",
      "[78]\tvalidation_0-auc:0.958882\tvalidation_0-error:0.114786\tvalidation_1-auc:0.827899\tvalidation_1-error:0.216535\n",
      "[79]\tvalidation_0-auc:0.959588\tvalidation_0-error:0.114786\tvalidation_1-auc:0.82716\tvalidation_1-error:0.212598\n",
      "[80]\tvalidation_0-auc:0.960177\tvalidation_0-error:0.114786\tvalidation_1-auc:0.826624\tvalidation_1-error:0.212598\n",
      "[81]\tvalidation_0-auc:0.960362\tvalidation_0-error:0.11284\tvalidation_1-auc:0.826758\tvalidation_1-error:0.212598\n",
      "[82]\tvalidation_0-auc:0.96169\tvalidation_0-error:0.110895\tvalidation_1-auc:0.825819\tvalidation_1-error:0.212598\n",
      "[83]\tvalidation_0-auc:0.962211\tvalidation_0-error:0.11284\tvalidation_1-auc:0.826624\tvalidation_1-error:0.212598\n",
      "[84]\tvalidation_0-auc:0.962245\tvalidation_0-error:0.110895\tvalidation_1-auc:0.826557\tvalidation_1-error:0.208661\n",
      "[85]\tvalidation_0-auc:0.963539\tvalidation_0-error:0.105058\tvalidation_1-auc:0.82555\tvalidation_1-error:0.204724\n",
      "[86]\tvalidation_0-auc:0.964211\tvalidation_0-error:0.103113\tvalidation_1-auc:0.826221\tvalidation_1-error:0.212598\n",
      "[87]\tvalidation_0-auc:0.964329\tvalidation_0-error:0.103113\tvalidation_1-auc:0.826557\tvalidation_1-error:0.212598\n",
      "[88]\tvalidation_0-auc:0.964968\tvalidation_0-error:0.101167\tvalidation_1-auc:0.825617\tvalidation_1-error:0.212598\n",
      "[89]\tvalidation_0-auc:0.965169\tvalidation_0-error:0.105058\tvalidation_1-auc:0.824745\tvalidation_1-error:0.204724\n",
      "[90]\tvalidation_0-auc:0.965455\tvalidation_0-error:0.105058\tvalidation_1-auc:0.823604\tvalidation_1-error:0.208661\n",
      "[91]\tvalidation_0-auc:0.965909\tvalidation_0-error:0.105058\tvalidation_1-auc:0.82347\tvalidation_1-error:0.208661\n",
      "[92]\tvalidation_0-auc:0.966565\tvalidation_0-error:0.103113\tvalidation_1-auc:0.823806\tvalidation_1-error:0.208661\n",
      "[93]\tvalidation_0-auc:0.966716\tvalidation_0-error:0.103113\tvalidation_1-auc:0.82394\tvalidation_1-error:0.208661\n",
      "[94]\tvalidation_0-auc:0.966682\tvalidation_0-error:0.101167\tvalidation_1-auc:0.824678\tvalidation_1-error:0.208661\n",
      "[95]\tvalidation_0-auc:0.966884\tvalidation_0-error:0.101167\tvalidation_1-auc:0.823672\tvalidation_1-error:0.212598\n",
      "[96]\tvalidation_0-auc:0.967792\tvalidation_0-error:0.095331\tvalidation_1-auc:0.822866\tvalidation_1-error:0.204724\n",
      "[97]\tvalidation_0-auc:0.968128\tvalidation_0-error:0.095331\tvalidation_1-auc:0.823135\tvalidation_1-error:0.212598\n",
      "[98]\tvalidation_0-auc:0.968431\tvalidation_0-error:0.097276\tvalidation_1-auc:0.821591\tvalidation_1-error:0.216535\n",
      "[99]\tvalidation_0-auc:0.968582\tvalidation_0-error:0.097276\tvalidation_1-auc:0.821189\tvalidation_1-error:0.220472\n"
     ]
    },
    {
     "data": {
      "text/plain": [
       "XGBClassifier(base_score=0.5, booster='gbtree', colsample_bylevel=1,\n",
       "              colsample_bytree=1, gamma=0, learning_rate=0.1, max_delta_step=0,\n",
       "              max_depth=3, min_child_weight=1, missing=None, n_estimators=100,\n",
       "              n_jobs=1, nthread=None, objective='binary:logistic',\n",
       "              random_state=0, reg_alpha=0, reg_lambda=1, scale_pos_weight=1,\n",
       "              seed=None, silent=True, subsample=1)"
      ]
     },
     "execution_count": 19,
     "metadata": {},
     "output_type": "execute_result"
    }
   ],
   "source": [
    "eval_set = [(X_train, y_train), (X_test, y_test)]\n",
    "eval_metric = [\"auc\",\"error\"]\n",
    "model1.fit(X_train, y_train, eval_metric=eval_metric, eval_set=eval_set, verbose=True)\n"
   ]
  },
  {
   "cell_type": "code",
   "execution_count": 20,
   "metadata": {
    "scrolled": true
   },
   "outputs": [
    {
     "name": "stdout",
     "output_type": "stream",
     "text": [
      "Accuracy: 74.80%\n"
     ]
    }
   ],
   "source": [
    "model2.fit(X_train, y_train)\n",
    "# make predictions for test data\n",
    "y_pred = model2.predict(X_test)\n",
    "predictions = [round(value) for value in y_pred]\n",
    "# evaluate predictions\n",
    "accuracy = accuracy_score(y_test, predictions)\n",
    "print(\"Accuracy: %.2f%%\" % (accuracy * 100.0))"
   ]
  },
  {
   "cell_type": "raw",
   "metadata": {},
   "source": [
    "XGBoost has a large number of advanced parameters, which can all affect the quality and speed of your model.\n",
    "\n",
    "max_depth : int\n",
    "    Maximum tree depth for base learners.\n",
    "learning_rate : float\n",
    "    Boosting learning rate (XGBoost's \"eta\")\n",
    "n_estimators : int\n",
    "    Number of boosted trees to fit.\n",
    "silent : boolean\n",
    "    Whether to print messages while running boosting.\n",
    "objective : string\n",
    "    Specify the learning task and the corresponding learning objective.\n",
    "nthread : int\n",
    "    Number of parallel threads used to run XGBoost.\n",
    "gamma : float\n",
    "    Minimum loss reduction required to make a further partition\n",
    "    on a leaf node of the tree.\n",
    "min_child_weight : int\n",
    "    Minimum sum of instance weight(hessian) needed in a child.\n",
    "max_delta_step : int\n",
    "    Maximum delta step we allow each tree's weight estimation to be.\n",
    "subsample : float\n",
    "    Subsample ratio of the training instance.\n",
    "colsample_bytree : float\n",
    "    Subsample ratio of columns when constructing each tree.\n",
    "base_score:\n",
    "    The initial prediction score of all instances, global bias.\n",
    "seed : int\n",
    "    Random number seed.\n",
    "missing : float, optional\n",
    "    Value in the data which needs to be present as a missing value.\n",
    "    If None, defaults to np.nan.\n",
    "You have 2 ways to control overfitting in XGBoost:\n",
    "\n",
    "Control the model complexity with max_depth, min_child_weight and gamma.\n",
    "Add randomness to make training robust to noise with subsample and colsample_bytree.\n",
    "\n"
   ]
  },
  {
   "cell_type": "code",
   "execution_count": null,
   "metadata": {
    "collapsed": true
   },
   "outputs": [],
   "source": []
  },
  {
   "cell_type": "code",
   "execution_count": null,
   "metadata": {
    "collapsed": true
   },
   "outputs": [],
   "source": []
  }
 ],
 "metadata": {
  "kernelspec": {
   "display_name": "Python 3",
   "language": "python",
   "name": "python3"
  },
  "language_info": {
   "codemirror_mode": {
    "name": "ipython",
    "version": 3
   },
   "file_extension": ".py",
   "mimetype": "text/x-python",
   "name": "python",
   "nbconvert_exporter": "python",
   "pygments_lexer": "ipython3",
   "version": "3.6.10"
  }
 },
 "nbformat": 4,
 "nbformat_minor": 2
}
